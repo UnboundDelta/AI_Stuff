{
 "cells": [
  {
   "cell_type": "code",
   "execution_count": 1,
   "id": "2a85bf58",
   "metadata": {},
   "outputs": [],
   "source": [
    "from win32com.client import Dispatch"
   ]
  },
  {
   "cell_type": "code",
   "execution_count": 2,
   "id": "686340fd",
   "metadata": {},
   "outputs": [],
   "source": [
    "speak = Dispatch(\"SAPI.SpVoice\")"
   ]
  },
  {
   "cell_type": "code",
   "execution_count": 9,
   "id": "9dcd808a",
   "metadata": {},
   "outputs": [],
   "source": [
    "import requests    \n",
    " \n",
    "def NewsFromBBC():\n",
    "     \n",
    "    # BBC news api\n",
    "    # following query parameters are used\n",
    "    # source, sortBy and apiKey\n",
    "    query_params = {\n",
    "      \"source\": \"bbc-news\",\n",
    "      \"sortBy\": \"top\",\n",
    "      \"apiKey\": \"1d4e340b4af1467bbe10e516ec441cda\"\n",
    "    }\n",
    "    main_url = \" https://newsapi.org/v1/articles\"\n",
    " \n",
    "    # fetching data in json format\n",
    "    res = requests.get(main_url, params=query_params)\n",
    "    open_bbc_page = res.json()\n",
    " \n",
    "    # getting all articles in a string article\n",
    "    article = open_bbc_page[\"articles\"]\n",
    " \n",
    "    # empty list which will\n",
    "    # contain all trending news\n",
    "    results = []\n",
    "    \n",
    "    speak = Dispatch(\"SAPI.Spvoice\")\n",
    "     \n",
    "    for ar in article:\n",
    "        results.append(ar[\"title\"])\n",
    "        \n",
    "    speak.Speak(\"Welcome to the Triple X News Channel. Here are our top 10 news headlines of the day\")\n",
    "    \n",
    "    dict1 = {1:'first', 2:'second', 3:'third', 4:'fourth', 5:'fifth', 6:'sixth', 7:'seventh', 8:'eighth', 9:'ninth', 10:'tenth'}       \n",
    "    for i in range(len(results[:5])):\n",
    "         \n",
    "        # printing all trending news\n",
    "        speak.Speak(\"{} - {}\".format(dict1[i+1], results[i]))\n",
    " \n",
    "    #to read the news out loud for us\n",
    "#     speak.Speak(results)                \n",
    " \n",
    "# Driver Code\n",
    "if __name__ == '__main__':\n",
    "     \n",
    "    # function call\n",
    "    NewsFromBBC()"
   ]
  },
  {
   "cell_type": "code",
   "execution_count": null,
   "id": "9cad4ce1",
   "metadata": {},
   "outputs": [],
   "source": []
  }
 ],
 "metadata": {
  "kernelspec": {
   "display_name": "MLvenv",
   "language": "python",
   "name": "mlvenv"
  },
  "language_info": {
   "codemirror_mode": {
    "name": "ipython",
    "version": 3
   },
   "file_extension": ".py",
   "mimetype": "text/x-python",
   "name": "python",
   "nbconvert_exporter": "python",
   "pygments_lexer": "ipython3",
   "version": "3.10.7"
  }
 },
 "nbformat": 4,
 "nbformat_minor": 5
}
