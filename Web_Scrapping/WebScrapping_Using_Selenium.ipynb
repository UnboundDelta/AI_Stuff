{
 "cells": [
  {
   "cell_type": "code",
   "execution_count": 8,
   "id": "bb2da5c7",
   "metadata": {},
   "outputs": [],
   "source": [
    "from selenium import webdriver\n",
    "from webdriver_manager.chrome import ChromeDriverManager\n",
    "from selenium.webdriver.common.by import By\n",
    "import pandas as pd\n",
    "from openpyxl import Workbook"
   ]
  },
  {
   "cell_type": "code",
   "execution_count": 9,
   "id": "ea500135",
   "metadata": {},
   "outputs": [
    {
     "name": "stderr",
     "output_type": "stream",
     "text": [
      "C:\\Users\\aryan\\AppData\\Local\\Temp\\ipykernel_31160\\2449147235.py:1: DeprecationWarning: executable_path has been deprecated, please pass in a Service object\n",
      "  driver = webdriver.Chrome(ChromeDriverManager().install())\n"
     ]
    }
   ],
   "source": [
    "driver = webdriver.Chrome(ChromeDriverManager().install())\n",
    "driver.maximize_window()\n",
    "driver.get(\"https://www.amazon.in/\")\n",
    "driver.implicitly_wait(10)\n",
    "driver.find_element(By.XPATH, '//input[contains(@id, \"search\")]').send_keys(\"Samsung Phones\")\n",
    "driver.find_element(By.XPATH, '//input[@value = \"Go\"]').click()\n",
    "driver.find_element(By.XPATH, \"//span[text()='Samsung']\").click()\n",
    "phonenames = driver.find_elements(By.XPATH, \"//span[contains(@class, 'a-color-base a-text-normal')]\")\n",
    "prices = driver.find_elements(By.XPATH, \"//span[contains(@class, 'price-whole')]\")\n",
    "\n",
    "myphones = []\n",
    "myprices = []\n",
    "\n",
    "for phone in phonenames:\n",
    "    myphones.append(phone.text)\n",
    "\n",
    "\n",
    "for price in prices:\n",
    "    myprices.append(price.text)\n",
    "\n",
    "finallist = zip(myphones[1:], myprices[1:])\n",
    "\n",
    "wb = Workbook()\n",
    "wb['Sheet'].title = 'Samsung Data'\n",
    "sh1 = wb.active\n",
    "sh1.append(['Name', 'Price'])\n",
    "for x in list(finallist):\n",
    "    sh1.append(x)\n",
    "\n",
    "wb.save('FinalRecords.xlsx')\n"
   ]
  },
  {
   "cell_type": "code",
   "execution_count": null,
   "id": "d2b5b163",
   "metadata": {},
   "outputs": [],
   "source": []
  }
 ],
 "metadata": {
  "kernelspec": {
   "display_name": "MLvenv",
   "language": "python",
   "name": "mlvenv"
  },
  "language_info": {
   "codemirror_mode": {
    "name": "ipython",
    "version": 3
   },
   "file_extension": ".py",
   "mimetype": "text/x-python",
   "name": "python",
   "nbconvert_exporter": "python",
   "pygments_lexer": "ipython3",
   "version": "3.10.7"
  }
 },
 "nbformat": 4,
 "nbformat_minor": 5
}
