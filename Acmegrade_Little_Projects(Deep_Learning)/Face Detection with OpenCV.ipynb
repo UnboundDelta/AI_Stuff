{
 "cells": [
  {
   "cell_type": "code",
   "execution_count": 1,
   "id": "5cc431b3",
   "metadata": {},
   "outputs": [],
   "source": [
    "# We will see how to perform whole face detection, eye detection and smile detection from images\n",
    "# There are various algorithms that have been developed for face recognition tasks. Viola-Jones algorithm.\n",
    "# It is a very simple algorithm and it can detect objects such as faces in images with very high accuracy."
   ]
  },
  {
   "cell_type": "code",
   "execution_count": 2,
   "id": "8478aca6",
   "metadata": {},
   "outputs": [],
   "source": [
    "import cv2"
   ]
  },
  {
   "cell_type": "code",
   "execution_count": 3,
   "id": "fa4a9355",
   "metadata": {},
   "outputs": [],
   "source": [
    "from matplotlib import pyplot as plt\n",
    "import numpy"
   ]
  },
  {
   "cell_type": "code",
   "execution_count": 15,
   "id": "fe97f95d",
   "metadata": {},
   "outputs": [],
   "source": [
    "# Detecting the whole faces\n",
    "\n",
    "face_detector = cv2.CascadeClassifier('haarcascade_frontalface_default.xml')\n",
    "img = cv2.imread('fem_Image.jpg')\n",
    "gray = cv2.cvtColor(img, cv2.COLOR_BGR2GRAY)\n",
    "\n",
    "faces = face_detector.detectMultiScale(gray)"
   ]
  },
  {
   "cell_type": "code",
   "execution_count": 20,
   "id": "8014396a",
   "metadata": {},
   "outputs": [],
   "source": [
    "# Once the face is detected we need to create a rectangle around the face.\n",
    "# To do so, we need the x and y components of the face area and the width and height of the face\n",
    "\n",
    "for x, y, width, height in faces:\n",
    "    cv2.rectangle(img, (x, y), (x + width, y + height), color=(255, 255, 255), thickness=2)"
   ]
  },
  {
   "cell_type": "code",
   "execution_count": 21,
   "id": "a0a0d697",
   "metadata": {},
   "outputs": [],
   "source": [
    "cv2.imshow(\"Faces found\", img)"
   ]
  },
  {
   "cell_type": "code",
   "execution_count": null,
   "id": "971067b5",
   "metadata": {},
   "outputs": [],
   "source": []
  }
 ],
 "metadata": {
  "kernelspec": {
   "display_name": "MLvenv",
   "language": "python",
   "name": "mlvenv"
  },
  "language_info": {
   "codemirror_mode": {
    "name": "ipython",
    "version": 3
   },
   "file_extension": ".py",
   "mimetype": "text/x-python",
   "name": "python",
   "nbconvert_exporter": "python",
   "pygments_lexer": "ipython3",
   "version": "3.10.7"
  }
 },
 "nbformat": 4,
 "nbformat_minor": 5
}
