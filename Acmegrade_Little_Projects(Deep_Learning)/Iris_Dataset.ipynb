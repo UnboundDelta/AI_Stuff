{
 "cells": [
  {
   "cell_type": "code",
   "execution_count": 17,
   "id": "87650e7a",
   "metadata": {},
   "outputs": [],
   "source": [
    "import pandas as pd\n",
    "import numpy as np\n",
    "import matplotlib.pyplot as plt\n",
    "import os\n",
    "import tensorflow as tf\n",
    "from sklearn.model_selection import train_test_split\n",
    "from sklearn.preprocessing import StandardScaler\n",
    "\n",
    "import warnings\n",
    "warnings.filterwarnings(\"ignore\")"
   ]
  },
  {
   "cell_type": "code",
   "execution_count": 2,
   "id": "ebe4b55e",
   "metadata": {},
   "outputs": [],
   "source": [
    "# Prepare input data for deep learning\n",
    "# Load data into pandas dataframe\n",
    "# Convert the dataframe into a numpy array\n",
    "# Scale the feature dataset\n",
    "# Use onehot encoding for the target variable\n",
    "# Split the dataset into training and test datasets"
   ]
  },
  {
   "cell_type": "code",
   "execution_count": 6,
   "id": "91f5cc36",
   "metadata": {},
   "outputs": [
    {
     "name": "stdout",
     "output_type": "stream",
     "text": [
      "   Sepal.Length  Sepal.Width  Petal.Length  Petal.Width Species\n",
      "0           5.1          3.5           1.4          0.2  setosa\n",
      "1           4.9          3.0           1.4          0.2  setosa\n",
      "2           4.7          3.2           1.3          0.2  setosa\n",
      "3           4.6          3.1           1.5          0.2  setosa\n",
      "4           5.0          3.6           1.4          0.2  setosa\n",
      "   Sepal.Length  Sepal.Width  Petal.Length  Petal.Width  Species\n",
      "0           5.1          3.5           1.4          0.2        0\n",
      "1           4.9          3.0           1.4          0.2        0\n",
      "2           4.7          3.2           1.3          0.2        0\n",
      "3           4.6          3.1           1.5          0.2        0\n",
      "4           5.0          3.6           1.4          0.2        0\n"
     ]
    }
   ],
   "source": [
    "# Load data adn review content\n",
    "\n",
    "iris_data = pd.read_csv(\"iris.csv\")\n",
    "print(iris_data.head())\n",
    "\n",
    "# Use Label encoder to convert String to numeric values for the target variable\n",
    "from sklearn.preprocessing import LabelEncoder\n",
    "\n",
    "label_encoder = LabelEncoder()\n",
    "iris_data['Species'] = label_encoder.fit_transform(iris_data['Species'])\n",
    "print(iris_data.head())"
   ]
  },
  {
   "cell_type": "code",
   "execution_count": 7,
   "id": "3fccb0c3",
   "metadata": {},
   "outputs": [
    {
     "name": "stdout",
     "output_type": "stream",
     "text": [
      "(150, 5)\n",
      "\n",
      "Features before scaling: \n",
      "-------------------------------------------------\n",
      "[[5.1 3.5 1.4 0.2]\n",
      " [4.9 3.  1.4 0.2]\n",
      " [4.7 3.2 1.3 0.2]\n",
      " [4.6 3.1 1.5 0.2]\n",
      " [5.  3.6 1.4 0.2]]\n",
      "\n",
      "Target before scaling: \n",
      "---------------------------------------------------\n",
      "[0. 0. 0. 0. 0.]\n"
     ]
    }
   ],
   "source": [
    "# Converting input to numpy array\n",
    "np_iris = iris_data.to_numpy()\n",
    "print(np_iris.shape)\n",
    "\n",
    "# Separate features and target variables\n",
    "X_data = np_iris[:,0:4]\n",
    "Y_data = np_iris[:,4]\n",
    "\n",
    "print(\"\\nFeatures before scaling: \\n-------------------------------------------------\")\n",
    "print(X_data[:5, :])\n",
    "print(\"\\nTarget before scaling: \\n---------------------------------------------------\")\n",
    "print(Y_data[:5])"
   ]
  },
  {
   "cell_type": "code",
   "execution_count": 11,
   "id": "4185babc",
   "metadata": {},
   "outputs": [
    {
     "name": "stdout",
     "output_type": "stream",
     "text": [
      "\n",
      "Features after scaling: \n",
      "-------------------------------------------------\n",
      "[[-0.90068117  1.01900435 -1.34022653 -1.3154443 ]\n",
      " [-1.14301691 -0.13197948 -1.34022653 -1.3154443 ]\n",
      " [-1.38535265  0.32841405 -1.39706395 -1.3154443 ]\n",
      " [-1.50652052  0.09821729 -1.2833891  -1.3154443 ]\n",
      " [-1.02184904  1.24920112 -1.34022653 -1.3154443 ]]\n",
      "\n",
      "Target after scaling: \n",
      "---------------------------------------------------\n",
      "[[[0. 1. 0.]\n",
      "  [1. 0. 0.]\n",
      "  [1. 0. 0.]]\n",
      "\n",
      " [[0. 1. 0.]\n",
      "  [1. 0. 0.]\n",
      "  [1. 0. 0.]]\n",
      "\n",
      " [[0. 1. 0.]\n",
      "  [1. 0. 0.]\n",
      "  [1. 0. 0.]]\n",
      "\n",
      " [[0. 1. 0.]\n",
      "  [1. 0. 0.]\n",
      "  [1. 0. 0.]]\n",
      "\n",
      " [[0. 1. 0.]\n",
      "  [1. 0. 0.]\n",
      "  [1. 0. 0.]]]\n"
     ]
    }
   ],
   "source": [
    "# Create a standard scaler object that is fit on the input data\n",
    "scaler = StandardScaler().fit(X_data)\n",
    "\n",
    "# Scale the numeric feature variable\n",
    "X_data = scaler.transform(X_data)\n",
    "\n",
    "# Convert target variable as a one-hot ended array\n",
    "Y_data = tf.keras.utils.to_categorical(Y_data, 3)\n",
    "\n",
    "print(\"\\nFeatures after scaling: \\n-------------------------------------------------\")\n",
    "print(X_data[:5, :])\n",
    "print(\"\\nTarget after scaling: \\n---------------------------------------------------\")\n",
    "print(Y_data[:5])"
   ]
  },
  {
   "cell_type": "code",
   "execution_count": 10,
   "id": "5608d054",
   "metadata": {},
   "outputs": [
    {
     "name": "stdout",
     "output_type": "stream",
     "text": [
      "(135, 4) (15, 4) (135, 3) (15, 3)\n"
     ]
    }
   ],
   "source": [
    "# Splitting the data into training and testing data\n",
    "\n",
    "X_train, X_test, Y_train, Y_test = train_test_split(X_data, Y_data, test_size=0.10)\n",
    "\n",
    "print(X_train.shape, X_test.shape, Y_train.shape, Y_test.shape)"
   ]
  },
  {
   "cell_type": "code",
   "execution_count": 12,
   "id": "9e0c4f28",
   "metadata": {},
   "outputs": [],
   "source": [
    "#### Neural Network Model ####\n",
    "\n",
    "# 1. Create a Model\n",
    "# 2. number of hidden layers\n",
    "# 3. number of nodes in each layer\n",
    "# 4. activation functions\n",
    "# 5. Loss function and accuracy measurements"
   ]
  },
  {
   "cell_type": "code",
   "execution_count": 14,
   "id": "2ca9896a",
   "metadata": {},
   "outputs": [
    {
     "name": "stdout",
     "output_type": "stream",
     "text": [
      "Model: \"sequential\"\n",
      "_________________________________________________________________\n",
      " Layer (type)                Output Shape              Param #   \n",
      "=================================================================\n",
      " Hidden-Layer-1 (Dense)      (None, 128)               640       \n",
      "                                                                 \n",
      " Hidden-Layer-12 (Dense)     (None, 128)               16512     \n",
      "                                                                 \n",
      " Output-Layer (Dense)        (None, 3)                 387       \n",
      "                                                                 \n",
      "=================================================================\n",
      "Total params: 17,539\n",
      "Trainable params: 17,539\n",
      "Non-trainable params: 0\n",
      "_________________________________________________________________\n"
     ]
    }
   ],
   "source": [
    "from tensorflow import keras\n",
    "\n",
    "# Number of classes in target variable\n",
    "NB_CLASSES = 3\n",
    "\n",
    "# create a sequential model in keras\n",
    "model = tf.keras.models.Sequential()\n",
    "\n",
    "# add the first hidden layer\n",
    "model.add(keras.layers.Dense(128, # Number of nodes\n",
    "                             input_shape = (4,), # number of input variables\n",
    "                             name = \"Hidden-Layer-1\", # Logical name\n",
    "                             activation = 'relu')) # activation function\n",
    "                             \n",
    "# Add the second hidden layer\n",
    "model.add(keras.layers.Dense(128, # Number of nodes\n",
    "                             name = \"Hidden-Layer-12\", # Logical name\n",
    "                             activation = 'relu')) # activation function\n",
    "\n",
    "# Add an output layer with softmax function\n",
    "model.add(keras.layers.Dense(NB_CLASSES,\n",
    "                             name = 'Output-Layer',\n",
    "                             activation = 'softmax'))\n",
    "\n",
    "# Compile the model with loss and metrics\n",
    "model.compile(loss = 'categorical_crossentropy',\n",
    "             metrics= ['accuracy'])\n",
    "\n",
    "# Print the model summary\n",
    "model.summary()"
   ]
  },
  {
   "cell_type": "code",
   "execution_count": 16,
   "id": "cd4597e1",
   "metadata": {},
   "outputs": [
    {
     "name": "stdout",
     "output_type": "stream",
     "text": [
      "\n",
      "Training Progress: \n",
      "------------------------------------------------\n",
      "Epoch 1/20\n",
      "7/7 [==============================] - 6s 52ms/step - loss: 0.7930 - accuracy: 0.7778 - val_loss: 0.5514 - val_accuracy: 0.8519\n",
      "Epoch 2/20\n",
      "7/7 [==============================] - 0s 8ms/step - loss: 0.4960 - accuracy: 0.8426 - val_loss: 0.4197 - val_accuracy: 0.8148\n",
      "Epoch 3/20\n",
      "7/7 [==============================] - 0s 7ms/step - loss: 0.3909 - accuracy: 0.8704 - val_loss: 0.3660 - val_accuracy: 0.8148\n",
      "Epoch 4/20\n",
      "7/7 [==============================] - 0s 7ms/step - loss: 0.3339 - accuracy: 0.8981 - val_loss: 0.3323 - val_accuracy: 0.8519\n",
      "Epoch 5/20\n",
      "7/7 [==============================] - 0s 8ms/step - loss: 0.2937 - accuracy: 0.8704 - val_loss: 0.2954 - val_accuracy: 0.8148\n",
      "Epoch 6/20\n",
      "7/7 [==============================] - 0s 7ms/step - loss: 0.2645 - accuracy: 0.8704 - val_loss: 0.2765 - val_accuracy: 0.8148\n",
      "Epoch 7/20\n",
      "7/7 [==============================] - 0s 7ms/step - loss: 0.2365 - accuracy: 0.9074 - val_loss: 0.2659 - val_accuracy: 0.8519\n",
      "Epoch 8/20\n",
      "7/7 [==============================] - 0s 7ms/step - loss: 0.2139 - accuracy: 0.9167 - val_loss: 0.2483 - val_accuracy: 0.8519\n",
      "Epoch 9/20\n",
      "7/7 [==============================] - 0s 7ms/step - loss: 0.1972 - accuracy: 0.9167 - val_loss: 0.2301 - val_accuracy: 0.8519\n",
      "Epoch 10/20\n",
      "7/7 [==============================] - 0s 8ms/step - loss: 0.1770 - accuracy: 0.9537 - val_loss: 0.2134 - val_accuracy: 0.9259\n",
      "Epoch 11/20\n",
      "7/7 [==============================] - 0s 9ms/step - loss: 0.1603 - accuracy: 0.9630 - val_loss: 0.2071 - val_accuracy: 0.9259\n",
      "Epoch 12/20\n",
      "7/7 [==============================] - 0s 9ms/step - loss: 0.1549 - accuracy: 0.9537 - val_loss: 0.1841 - val_accuracy: 0.9259\n",
      "Epoch 13/20\n",
      "7/7 [==============================] - 0s 9ms/step - loss: 0.1338 - accuracy: 0.9537 - val_loss: 0.1764 - val_accuracy: 0.9259\n",
      "Epoch 14/20\n",
      "7/7 [==============================] - 0s 9ms/step - loss: 0.1301 - accuracy: 0.9630 - val_loss: 0.1774 - val_accuracy: 0.9259\n",
      "Epoch 15/20\n",
      "7/7 [==============================] - 0s 9ms/step - loss: 0.1163 - accuracy: 0.9815 - val_loss: 0.1646 - val_accuracy: 0.9259\n",
      "Epoch 16/20\n",
      "7/7 [==============================] - 0s 9ms/step - loss: 0.1185 - accuracy: 0.9815 - val_loss: 0.1574 - val_accuracy: 0.9259\n",
      "Epoch 17/20\n",
      "7/7 [==============================] - 0s 8ms/step - loss: 0.1036 - accuracy: 0.9815 - val_loss: 0.1523 - val_accuracy: 0.9259\n",
      "Epoch 18/20\n",
      "7/7 [==============================] - 0s 9ms/step - loss: 0.1021 - accuracy: 0.9815 - val_loss: 0.1296 - val_accuracy: 0.9259\n",
      "Epoch 19/20\n",
      "7/7 [==============================] - 0s 9ms/step - loss: 0.0923 - accuracy: 0.9815 - val_loss: 0.1322 - val_accuracy: 0.9259\n",
      "Epoch 20/20\n",
      "7/7 [==============================] - 0s 9ms/step - loss: 0.0896 - accuracy: 0.9722 - val_loss: 0.1210 - val_accuracy: 0.9259\n",
      "\n",
      "Accuracy during training: \n",
      "---------------------------------------------\n"
     ]
    },
    {
     "data": {
      "image/png": "[encoded data removed]",
      "text/plain": [
       "<Figure size 800x500 with 1 Axes>"
      ]
     },
     "metadata": {},
     "output_type": "display_data"
    },
    {
     "name": "stdout",
     "output_type": "stream",
     "text": [
      "\n",
      "Evaluate against the test dataset: \n",
      "--------------------------------------\n",
      "1/1 [==============================] - 0s 26ms/step - loss: 0.4137 - accuracy: 0.8667\n"
     ]
    },
    {
     "data": {
      "text/plain": [
       "[0.41370248794555664, 0.8666666746139526]"
      ]
     },
     "execution_count": 16,
     "metadata": {},
     "output_type": "execute_result"
    }
   ],
   "source": [
    "# Training and evaluating the model\n",
    "\n",
    "# Make it verbose so we can see the process\n",
    "VERBOSE = 1\n",
    "\n",
    "# Set hyperparameters for training\n",
    "\n",
    "# Set batch size\n",
    "BATCH_SIZE = 16\n",
    "\n",
    "# Set the number of epochs\n",
    "EPOCHS = 20\n",
    "\n",
    "# Set the validation split. 20% of the training dataset will be sued for validation\n",
    "VALIDATION_SPLIT = 0.2\n",
    "\n",
    "print('\\nTraining Progress: \\n------------------------------------------------')\n",
    "\n",
    "# Fitting the model. This will perform the entire training cycle, including forward propagation,\n",
    "# loss computation, backward propagation and gradient descent\n",
    "# It is executed for the specified batch sizes and epochs\n",
    "# and perform validation after each epoch\n",
    "\n",
    "history = model.fit(X_train,\n",
    "                   Y_train,\n",
    "                   batch_size=BATCH_SIZE,\n",
    "                   epochs=EPOCHS,\n",
    "                   verbose=VERBOSE,\n",
    "                   validation_split=VALIDATION_SPLIT)\n",
    "\n",
    "print(\"\\nAccuracy during training: \\n---------------------------------------------\")\n",
    "\n",
    "# Plot the accuracy of the model after each epoch\n",
    "\n",
    "pd.DataFrame(history.history)['accuracy'].plot(figsize=(8,5))\n",
    "plt.title(\"Accuracy improvement with each Epoch\")\n",
    "plt.show()\n",
    "\n",
    "# Evaluate the model against the test dataset and print the result\n",
    "\n",
    "print(\"\\nEvaluate against the test dataset: \\n--------------------------------------\")\n",
    "\n",
    "model.evaluate(X_test, Y_test)"
   ]
  },
  {
   "cell_type": "code",
   "execution_count": 18,
   "id": "02d7f25d",
   "metadata": {},
   "outputs": [
    {
     "name": "stderr",
     "output_type": "stream",
     "text": [
      "WARNING:absl:Function `_wrapped_model` contains input name(s) Hidden-Layer-1_input with unsupported characters which will be renamed to hidden_layer_1_input in the SavedModel.\n"
     ]
    },
    {
     "name": "stdout",
     "output_type": "stream",
     "text": [
      "INFO:tensorflow:Assets written to: iris_save\\assets\n"
     ]
    },
    {
     "name": "stderr",
     "output_type": "stream",
     "text": [
      "INFO:tensorflow:Assets written to: iris_save\\assets\n"
     ]
    },
    {
     "name": "stdout",
     "output_type": "stream",
     "text": [
      "Model: \"sequential\"\n",
      "_________________________________________________________________\n",
      " Layer (type)                Output Shape              Param #   \n",
      "=================================================================\n",
      " Hidden-Layer-1 (Dense)      (None, 128)               640       \n",
      "                                                                 \n",
      " Hidden-Layer-12 (Dense)     (None, 128)               16512     \n",
      "                                                                 \n",
      " Output-Layer (Dense)        (None, 3)                 387       \n",
      "                                                                 \n",
      "=================================================================\n",
      "Total params: 17,539\n",
      "Trainable params: 17,539\n",
      "Non-trainable params: 0\n",
      "_________________________________________________________________\n"
     ]
    }
   ],
   "source": [
    "# Saving the model\n",
    "model.save(\"iris_save\")\n",
    "\n",
    "# Load the model\n",
    "loaded_model = keras.models.load_model(\"iris_save\")\n",
    "\n",
    "# print the model summary\n",
    "loaded_model.summary()"
   ]
  },
  {
   "cell_type": "code",
   "execution_count": 20,
   "id": "591a72e1",
   "metadata": {},
   "outputs": [
    {
     "name": "stdout",
     "output_type": "stream",
     "text": [
      "1/1 [==============================] - 0s 24ms/step\n",
      "Raw Prediction Output (Probabilities): [[4.700125e-36 8.803273e-18 1.000000e+00]]\n",
      "Prediction is ['virginica']\n"
     ]
    }
   ],
   "source": [
    "# Predictions with deep learning model\n",
    "\n",
    "# Raw prediction data\n",
    "\n",
    "prediction_input = [[8.6, 9., 12.4, 6.4]]\n",
    "\n",
    "# scale the prediction data with some scaling object\n",
    "scaled_input = scaler.transform(prediction_input)\n",
    "\n",
    "# get the raw prediction probabilities\n",
    "raw_prediction = loaded_model.predict(scaled_input)\n",
    "print(\"Raw Prediction Output (Probabilities):\",raw_prediction)\n",
    "\n",
    "# Find prediction\n",
    "prediction = np.argmax(raw_prediction)\n",
    "print('Prediction is', label_encoder.inverse_transform([prediction]))"
   ]
  },
  {
   "cell_type": "code",
   "execution_count": null,
   "id": "a6a584fb",
   "metadata": {},
   "outputs": [],
   "source": []
  },
  {
   "cell_type": "code",
   "execution_count": null,
   "id": "bdf758f3",
   "metadata": {},
   "outputs": [],
   "source": []
  },
  {
   "cell_type": "code",
   "execution_count": null,
   "id": "5230d918",
   "metadata": {},
   "outputs": [],
   "source": []
  },
  {
   "cell_type": "code",
   "execution_count": null,
   "id": "c62a2213",
   "metadata": {},
   "outputs": [],
   "source": []
  },
  {
   "cell_type": "code",
   "execution_count": null,
   "id": "234c1993",
   "metadata": {},
   "outputs": [],
   "source": []
  }
 ],
 "metadata": {
  "kernelspec": {
   "display_name": "MLvenv",
   "language": "python",
   "name": "mlvenv"
  },
  "language_info": {
   "codemirror_mode": {
    "name": "ipython",
    "version": 3
   },
   "file_extension": ".py",
   "mimetype": "text/x-python",
   "name": "python",
   "nbconvert_exporter": "python",
   "pygments_lexer": "ipython3",
   "version": "3.10.6"
  },
  "varInspector": {
   "cols": {
    "lenName": 16,
    "lenType": 16,
    "lenVar": 40
   },
   "kernels_config": {
    "python": {
     "delete_cmd_postfix": "",
     "delete_cmd_prefix": "del ",
     "library": "var_list.py",
     "varRefreshCmd": "print(var_dic_list())"
    },
    "r": {
     "delete_cmd_postfix": ") ",
     "delete_cmd_prefix": "rm(",
     "library": "var_list.r",
     "varRefreshCmd": "cat(var_dic_list()) "
    }
   },
   "types_to_exclude": [
    "module",
    "function",
    "builtin_function_or_method",
    "instance",
    "_Feature"
   ],
   "window_display": false
  }
 },
 "nbformat": 4,
 "nbformat_minor": 5
}
