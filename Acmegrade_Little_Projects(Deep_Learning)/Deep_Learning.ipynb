{
 "cells": [
  {
   "cell_type": "code",
   "execution_count": 1,
   "id": "87536bb4",
   "metadata": {},
   "outputs": [],
   "source": [
    "# Deep Learning is a field within Machine Learning that deals with building and using neural network models.\n",
    "# Neural Network mimic the functioning of a human brain, Neural Network with more than three layers are\n",
    "# typically categorised as Deep Learning Networks\n",
    "\n",
    "# linear regression is a linear model that explains the relationship between two or more variables\n",
    "# A related technique that is most used in Deep Learning is Logistic Regression.\n",
    "# Logistic regression is a binary model that defines the relationship between two variables."
   ]
  },
  {
   "cell_type": "code",
   "execution_count": 2,
   "id": "8d397cf9",
   "metadata": {},
   "outputs": [],
   "source": [
    "# Perceptron - The perceptron is the unit for learning in an artificial neural network. \n",
    "# A perceptron resembles a human brain cell.\n",
    "# A perceptron is a single cell or node in a neural network.\n",
    "\n",
    "# In deep learning we replace slope of model with weights called as w and intercept with bias called as b.\n",
    "# Weights and biases became the parameters for a neural network.\n",
    "\n",
    "# The number of weights equals the number of inputs/features"
   ]
  },
  {
   "cell_type": "code",
   "execution_count": 3,
   "id": "b6aac06b",
   "metadata": {},
   "outputs": [],
   "source": [
    "# A Aritificial Neural Network is a network of perceptrons.\n",
    "# A deep neural network usually has three or more layers.\n",
    "# Each node has its own weights, biases and activation function. Each node is connected to all\n",
    "# the nodes in next layer forming a dense network.\n",
    "\n",
    "# Training an ANN means determining the right values for these parameters and hyperparameters such that\n",
    "# it maximizes the accuracy of predictions for the given use case."
   ]
  },
  {
   "cell_type": "code",
   "execution_count": 4,
   "id": "9dc20859",
   "metadata": {},
   "outputs": [],
   "source": [
    "# Neural Network architecture\n",
    "\n",
    "# Input Layer - The input to deep learning model is usually a vector of numeric values.\n",
    "# Vectors are usually defined using a Numpy arrays. It represents the feature variables or independent variables \n",
    "# that are used for predictions as well as training.\n",
    "\n",
    "# Hidden Layer - A ANN can have one or more hidden Layers. The more the number of Layers the deep the\n",
    "# network is. Each hidden Layer can have one or more nodes. Typically, the node count is configured in the \n",
    "# range of 2^n. Examples are 8, 16, 3, 64, etc.\n",
    "# A neural network is defined by the number of layers and nodes.\n",
    "# The output of each node in previous layer will become the input for every node in the current layer.\n",
    "# When there are more nodes and layers it usually results in better accuracy. As a general practice, start with small\n",
    "# number and keep adding until an acceptable accuracy levels are obtained.\n",
    "\n",
    "# Weights and Biases - They form the basis for Deep Learning Algorithms. They are trainable parameters in\n",
    "# a neural network model. Each input for each node will have an associated weight with it.\n",
    "\n",
    "# Activation Functions: An activation function plays an important role in creating the output of the node\n",
    "# in the neural network. An activation function takes the matrix output of the node and determines if an how \n",
    "# will propagate information to the next layer. The main objective of activation function is that it converts\n",
    "# the output to a non-linear value. They serve as a critical step in helping a neural network learn specific\n",
    "# patterns in the data.\n",
    "\n",
    "# TanH - It normalizes the output in the range of (-1 to +1)\n",
    "# ReLu - Rectified Linear Unit - A Relu produces a zero if the output is negative. Else, it will produce the\n",
    "# same input as it is.\n",
    "# Softmax - A Softmax activation function is used in the case of classification problems. It produces a vector of probabilities\n",
    "# for each of the possible classes in the outcomes. The class with the highest probability will be considered\n",
    "# as the final class.\n",
    "# These all activation functions are added as hyperparameters in the model.\n",
    "\n",
    "# Output Layer: The output layer is the final layer in the neural networks where desired predictions are obtained."
   ]
  },
  {
   "cell_type": "code",
   "execution_count": null,
   "id": "b02bb290",
   "metadata": {},
   "outputs": [],
   "source": [
    "# Training a Neural Network Model\n",
    "\n",
    "# Set up an initialisation - Converting our data into numeric vectors. Splitting data into training, validation and test sets.\n",
    "# Random Initialisation, we initiate the weights and biases to random values obtained from a standard normal distribution.\n",
    "\n",
    "# Forward Propagation - \n",
    "\n",
    "# Measuring Accuracy & Error\n",
    "\n",
    "# Back Propogation - \n",
    "\n",
    "# Gradient Descent - Process of repeating forward and backward propagation in order to reduce\n",
    "# error and move closer to the desired model.\n",
    "\n",
    "# Batch & Epochs\n",
    "\n",
    "# Validation & Testing"
   ]
  },
  {
   "cell_type": "code",
   "execution_count": null,
   "id": "e0f160c3",
   "metadata": {},
   "outputs": [],
   "source": []
  },
  {
   "cell_type": "code",
   "execution_count": null,
   "id": "12e46dde",
   "metadata": {},
   "outputs": [],
   "source": []
  },
  {
   "cell_type": "code",
   "execution_count": null,
   "id": "e6035267",
   "metadata": {},
   "outputs": [],
   "source": []
  },
  {
   "cell_type": "code",
   "execution_count": null,
   "id": "1a598f7e",
   "metadata": {},
   "outputs": [],
   "source": []
  },
  {
   "cell_type": "code",
   "execution_count": null,
   "id": "020345b5",
   "metadata": {},
   "outputs": [],
   "source": []
  },
  {
   "cell_type": "code",
   "execution_count": null,
   "id": "68ba026c",
   "metadata": {},
   "outputs": [],
   "source": []
  },
  {
   "cell_type": "code",
   "execution_count": null,
   "id": "b2df0de7",
   "metadata": {},
   "outputs": [],
   "source": []
  },
  {
   "cell_type": "code",
   "execution_count": null,
   "id": "1ad221a3",
   "metadata": {},
   "outputs": [],
   "source": []
  }
 ],
 "metadata": {
  "kernelspec": {
   "display_name": "MLvenv",
   "language": "python",
   "name": "mlvenv"
  },
  "language_info": {
   "codemirror_mode": {
    "name": "ipython",
    "version": 3
   },
   "file_extension": ".py",
   "mimetype": "text/x-python",
   "name": "python",
   "nbconvert_exporter": "python",
   "pygments_lexer": "ipython3",
   "version": "3.10.6"
  },
  "varInspector": {
   "cols": {
    "lenName": 16,
    "lenType": 16,
    "lenVar": 40
   },
   "kernels_config": {
    "python": {
     "delete_cmd_postfix": "",
     "delete_cmd_prefix": "del ",
     "library": "var_list.py",
     "varRefreshCmd": "print(var_dic_list())"
    },
    "r": {
     "delete_cmd_postfix": ") ",
     "delete_cmd_prefix": "rm(",
     "library": "var_list.r",
     "varRefreshCmd": "cat(var_dic_list()) "
    }
   },
   "types_to_exclude": [
    "module",
    "function",
    "builtin_function_or_method",
    "instance",
    "_Feature"
   ],
   "window_display": false
  }
 },
 "nbformat": 4,
 "nbformat_minor": 5
}
