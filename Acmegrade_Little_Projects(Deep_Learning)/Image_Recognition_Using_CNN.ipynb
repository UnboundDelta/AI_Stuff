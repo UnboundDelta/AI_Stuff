{
 "cells": [
  {
   "cell_type": "code",
   "execution_count": 1,
   "id": "ba3ced6e",
   "metadata": {},
   "outputs": [],
   "source": [
    "# In this project we will be using CIFAR10 dataset. This dataset includes thousands of pictures of 10 different kinds of objects\n",
    "# like airplanes, automobiles, birds and so on. Each image in the dataset includes a matching label so we know\n",
    "# what kind of image it is. The images in the CIFAR-10 dataset are only 32x32 pixels. These are very low resolution images\n",
    "\n",
    "import keras\n",
    "from keras.datasets import cifar10\n",
    "from keras.models import Sequential\n",
    "from keras.layers import Dense, Dropout, Flatten, Conv2D, MaxPooling2D\n",
    "from pathlib import Path\n",
    "from keras.utils.np_utils import to_categorical"
   ]
  },
  {
   "cell_type": "code",
   "execution_count": 2,
   "id": "d41bd2ee",
   "metadata": {},
   "outputs": [],
   "source": [
    "# Load the dataset\n",
    "\n",
    "(X_train, Y_train), (X_test, y_test) = cifar10.load_data()"
   ]
  },
  {
   "cell_type": "code",
   "execution_count": 3,
   "id": "608ddf03",
   "metadata": {},
   "outputs": [],
   "source": [
    "# Normalize the data\n",
    "\n",
    "X_train = X_train.astype('float32')\n",
    "X_test = X_test.astype('float32')\n",
    "X_train/=255.0\n",
    "X_test/=255.0"
   ]
  },
  {
   "cell_type": "code",
   "execution_count": 4,
   "id": "3ff36f3b",
   "metadata": {},
   "outputs": [],
   "source": [
    "# convert class vectors to binary class matrices\n",
    "\n",
    "Y_train = to_categorical(Y_train, 10)\n",
    "y_test = to_categorical(y_test, 10)"
   ]
  },
  {
   "cell_type": "code",
   "execution_count": 5,
   "id": "65caf06d",
   "metadata": {},
   "outputs": [],
   "source": [
    "# Dropout - The idea is that between certain layers we will randomly drop/throw away some of the data by cutting\n",
    "# some of the connections between the layers. this is called as dropout. Usually, we will add dropout right\n",
    "# after max pooling layer or after a group of dense layers"
   ]
  },
  {
   "cell_type": "code",
   "execution_count": 6,
   "id": "a6c6a066",
   "metadata": {},
   "outputs": [],
   "source": [
    "# Model\n",
    "\n",
    "model = Sequential()\n",
    "model.add(Conv2D(32, (3, 3), padding = 'same', input_shape=(32, 32, 3), activation = 'relu'))\n",
    "model.add(Conv2D(32, (3, 3), activation = 'relu'))\n",
    "model.add(MaxPooling2D(pool_size = (2, 2)))\n",
    "model.add(Dropout(0.25))\n",
    "\n",
    "model.add(Conv2D(64, (3, 3), padding = 'same', activation = 'relu'))\n",
    "model.add(Conv2D(32, (3, 3), activation = 'relu'))\n",
    "model.add(MaxPooling2D(pool_size = (2, 2)))\n",
    "model.add(Dropout(0.25))\n",
    "\n",
    "model.add(Flatten())\n",
    "model.add(Dense(512, activation = 'relu'))\n",
    "model.add(Dropout(0.5))\n",
    "model.add(Dense(10, activation = 'softmax'))"
   ]
  },
  {
   "cell_type": "code",
   "execution_count": 7,
   "id": "05ba9424",
   "metadata": {},
   "outputs": [
    {
     "name": "stdout",
     "output_type": "stream",
     "text": [
      "Model: \"sequential\"\n",
      "_________________________________________________________________\n",
      " Layer (type)                Output Shape              Param #   \n",
      "=================================================================\n",
      " conv2d (Conv2D)             (None, 32, 32, 32)        896       \n",
      "                                                                 \n",
      " conv2d_1 (Conv2D)           (None, 30, 30, 32)        9248      \n",
      "                                                                 \n",
      " max_pooling2d (MaxPooling2D  (None, 15, 15, 32)       0         \n",
      " )                                                               \n",
      "                                                                 \n",
      " dropout (Dropout)           (None, 15, 15, 32)        0         \n",
      "                                                                 \n",
      " conv2d_2 (Conv2D)           (None, 15, 15, 64)        18496     \n",
      "                                                                 \n",
      " conv2d_3 (Conv2D)           (None, 13, 13, 32)        18464     \n",
      "                                                                 \n",
      " max_pooling2d_1 (MaxPooling  (None, 6, 6, 32)         0         \n",
      " 2D)                                                             \n",
      "                                                                 \n",
      " dropout_1 (Dropout)         (None, 6, 6, 32)          0         \n",
      "                                                                 \n",
      " flatten (Flatten)           (None, 1152)              0         \n",
      "                                                                 \n",
      " dense (Dense)               (None, 512)               590336    \n",
      "                                                                 \n",
      " dropout_2 (Dropout)         (None, 512)               0         \n",
      "                                                                 \n",
      " dense_1 (Dense)             (None, 10)                5130      \n",
      "                                                                 \n",
      "=================================================================\n",
      "Total params: 642,570\n",
      "Trainable params: 642,570\n",
      "Non-trainable params: 0\n",
      "_________________________________________________________________\n"
     ]
    }
   ],
   "source": [
    "# compile the model\n",
    "\n",
    "model.compile(\n",
    "    loss = 'categorical_crossentropy',\n",
    "    optimizer = 'adam',\n",
    "    metrics = ['accuracy'])\n",
    "\n",
    "# print the model summary\n",
    "model.summary()"
   ]
  },
  {
   "cell_type": "code",
   "execution_count": 8,
   "id": "61ca15fd",
   "metadata": {},
   "outputs": [
    {
     "name": "stdout",
     "output_type": "stream",
     "text": [
      "Epoch 1/12\n",
      "1563/1563 [==============================] - 106s 67ms/step - loss: 1.5629 - accuracy: 0.4291 - val_loss: 1.2314 - val_accuracy: 0.5490\n",
      "Epoch 2/12\n",
      "1563/1563 [==============================] - 105s 67ms/step - loss: 1.1823 - accuracy: 0.5782 - val_loss: 1.0007 - val_accuracy: 0.6456\n",
      "Epoch 3/12\n",
      "1563/1563 [==============================] - 106s 68ms/step - loss: 1.0389 - accuracy: 0.6299 - val_loss: 0.8926 - val_accuracy: 0.6852\n",
      "Epoch 4/12\n",
      "1563/1563 [==============================] - 106s 68ms/step - loss: 0.9434 - accuracy: 0.6665 - val_loss: 0.8258 - val_accuracy: 0.7146\n",
      "Epoch 5/12\n",
      "1563/1563 [==============================] - 203s 130ms/step - loss: 0.8782 - accuracy: 0.6897 - val_loss: 0.8343 - val_accuracy: 0.7073\n",
      "Epoch 6/12\n",
      "1563/1563 [==============================] - 485s 310ms/step - loss: 0.8258 - accuracy: 0.7114 - val_loss: 0.7801 - val_accuracy: 0.7293\n",
      "Epoch 7/12\n",
      "1563/1563 [==============================] - 503s 322ms/step - loss: 0.7868 - accuracy: 0.7268 - val_loss: 0.7559 - val_accuracy: 0.7434\n",
      "Epoch 8/12\n",
      "1563/1563 [==============================] - 406s 260ms/step - loss: 0.7587 - accuracy: 0.7344 - val_loss: 0.7123 - val_accuracy: 0.7558\n",
      "Epoch 9/12\n",
      "1563/1563 [==============================] - 219s 140ms/step - loss: 0.7320 - accuracy: 0.7426 - val_loss: 0.6986 - val_accuracy: 0.7595\n",
      "Epoch 10/12\n",
      "1563/1563 [==============================] - 94s 60ms/step - loss: 0.7073 - accuracy: 0.7522 - val_loss: 0.6968 - val_accuracy: 0.7603\n",
      "Epoch 11/12\n",
      "1563/1563 [==============================] - 94s 60ms/step - loss: 0.6953 - accuracy: 0.7555 - val_loss: 0.6924 - val_accuracy: 0.7610\n",
      "Epoch 12/12\n",
      "1563/1563 [==============================] - 93s 60ms/step - loss: 0.6725 - accuracy: 0.7636 - val_loss: 0.6892 - val_accuracy: 0.7645\n"
     ]
    },
    {
     "data": {
      "text/plain": [
       "<keras.callbacks.History at 0x1e8279098a0>"
      ]
     },
     "execution_count": 8,
     "metadata": {},
     "output_type": "execute_result"
    }
   ],
   "source": [
    "# Train the model\n",
    "\n",
    "model.fit(\n",
    "    X_train,\n",
    "    Y_train,\n",
    "    batch_size=32,\n",
    "    epochs = 12,\n",
    "    validation_data = (X_test, y_test),\n",
    "    shuffle = True\n",
    ")"
   ]
  },
  {
   "cell_type": "code",
   "execution_count": 10,
   "id": "1ce565a8",
   "metadata": {},
   "outputs": [
    {
     "data": {
      "text/plain": [
       "4384"
      ]
     },
     "execution_count": 10,
     "metadata": {},
     "output_type": "execute_result"
    }
   ],
   "source": [
    "# save the neural network architecture\n",
    "\n",
    "model_structure = model.to_json()\n",
    "f=Path(\"model_structure.json\")\n",
    "f.write_text(model_structure)"
   ]
  },
  {
   "cell_type": "code",
   "execution_count": 11,
   "id": "c278e15d",
   "metadata": {},
   "outputs": [],
   "source": [
    "# save the trained neural network weights\n",
    "model.save_weights(\"model_weights.h5\")"
   ]
  },
  {
   "cell_type": "code",
   "execution_count": 31,
   "id": "7f679abb",
   "metadata": {},
   "outputs": [],
   "source": [
    "# Making predictions on the images\n",
    "\n",
    "from keras.models import model_from_json\n",
    "from pathlib import Path\n",
    "from tensorflow.keras.preprocessing import image\n",
    "import numpy as np\n",
    "import matplotlib.pyplot as plt"
   ]
  },
  {
   "cell_type": "code",
   "execution_count": 21,
   "id": "da6ce961",
   "metadata": {},
   "outputs": [],
   "source": [
    "# CIFAR-10 Dataset class labels\n",
    "\n",
    "class_labels = [\n",
    "    \"Planes\",\n",
    "    \"Car\",\n",
    "    \"Bird\",\n",
    "    \"Cat\",\n",
    "    \"Deer\",\n",
    "    \"Dog\",\n",
    "    \"Frog\",\n",
    "    \"Horse\",\n",
    "    \"Boat\",\n",
    "    \"Truck\"\n",
    "]"
   ]
  },
  {
   "cell_type": "code",
   "execution_count": 22,
   "id": "dffb4542",
   "metadata": {},
   "outputs": [],
   "source": [
    "# load the json file that contains the model structure\n",
    "\n",
    "f = Path(\"model_structure.json\")\n",
    "model_structure = f.read_text()"
   ]
  },
  {
   "cell_type": "code",
   "execution_count": 23,
   "id": "ca718760",
   "metadata": {},
   "outputs": [],
   "source": [
    "# Recreate the keras model object from the json data\n",
    "model = model_from_json(model_structure)"
   ]
  },
  {
   "cell_type": "code",
   "execution_count": 24,
   "id": "3f375b35",
   "metadata": {},
   "outputs": [],
   "source": [
    "# Re-Load the model training weights\n",
    "\n",
    "model.load_weights(\"model_weights.h5\")"
   ]
  },
  {
   "cell_type": "code",
   "execution_count": 32,
   "id": "f43e919e",
   "metadata": {},
   "outputs": [
    {
     "data": {
      "text/plain": [
       "<matplotlib.image.AxesImage at 0x1e802260f40>"
      ]
     },
     "execution_count": 32,
     "metadata": {},
     "output_type": "execute_result"
    },
    {
     "data": {
      "image/png": "[encoded data removed]",
      "text/plain": [
       "<Figure size 640x480 with 1 Axes>"
      ]
     },
     "metadata": {},
     "output_type": "display_data"
    }
   ],
   "source": [
    "# Load an image file to test\n",
    "\n",
    "img = image.load_img(\"dog.png\", target_size = (32, 32))\n",
    "plt.imshow(img)"
   ]
  },
  {
   "cell_type": "code",
   "execution_count": 33,
   "id": "eec070e8",
   "metadata": {},
   "outputs": [],
   "source": [
    "# Convert the image to a numpy array\n",
    "\n",
    "image_to_test = image.img_to_array(img)"
   ]
  },
  {
   "cell_type": "code",
   "execution_count": 34,
   "id": "5835cc78",
   "metadata": {},
   "outputs": [],
   "source": [
    "# Add a fourth dimension to the image, since Keras expects a list of images, not a single image\n",
    "\n",
    "list_of_images = np.expand_dims(image_to_test, axis = 0)"
   ]
  },
  {
   "cell_type": "code",
   "execution_count": 35,
   "id": "684fe6f7",
   "metadata": {},
   "outputs": [
    {
     "name": "stdout",
     "output_type": "stream",
     "text": [
      "1/1 [==============================] - 2s 2s/step\n"
     ]
    }
   ],
   "source": [
    "# make predictions using the model\n",
    "\n",
    "results = model.predict(list_of_images)"
   ]
  },
  {
   "cell_type": "code",
   "execution_count": 37,
   "id": "f37898d8",
   "metadata": {},
   "outputs": [],
   "source": [
    "# since we are only testing one image, we only need to check the first result\n",
    "\n",
    "single_result = results[0]"
   ]
  },
  {
   "cell_type": "code",
   "execution_count": 38,
   "id": "cdf08cf4",
   "metadata": {},
   "outputs": [],
   "source": [
    "# We will get a likelihood for all 10 possible classes. Find out which class has the highest score\n",
    "\n",
    "most_likely_class_index = int(np.argmax(single_result))\n",
    "class_likelihood = single_result[most_likely_class_index]"
   ]
  },
  {
   "cell_type": "code",
   "execution_count": 39,
   "id": "944150e3",
   "metadata": {},
   "outputs": [],
   "source": [
    "# Get the name of the most likely class\n",
    "class_label = class_labels[most_likely_class_index]"
   ]
  },
  {
   "cell_type": "code",
   "execution_count": 40,
   "id": "5460e2f2",
   "metadata": {},
   "outputs": [
    {
     "name": "stdout",
     "output_type": "stream",
     "text": [
      "This is a image is a Horse- Likelihood: 1.000000\n"
     ]
    }
   ],
   "source": [
    "# Print the result\n",
    "\n",
    "print(\"This is a image is a {}- Likelihood: {:2f}\".format(class_label, class_likelihood))"
   ]
  },
  {
   "cell_type": "code",
   "execution_count": null,
   "id": "3a041f89",
   "metadata": {},
   "outputs": [],
   "source": []
  },
  {
   "cell_type": "code",
   "execution_count": null,
   "id": "2c09a52f",
   "metadata": {},
   "outputs": [],
   "source": []
  },
  {
   "cell_type": "code",
   "execution_count": null,
   "id": "5fd95bc1",
   "metadata": {},
   "outputs": [],
   "source": []
  },
  {
   "cell_type": "code",
   "execution_count": null,
   "id": "5af04991",
   "metadata": {},
   "outputs": [],
   "source": []
  },
  {
   "cell_type": "code",
   "execution_count": null,
   "id": "37c36b61",
   "metadata": {},
   "outputs": [],
   "source": []
  },
  {
   "cell_type": "code",
   "execution_count": null,
   "id": "fae8d748",
   "metadata": {},
   "outputs": [],
   "source": []
  },
  {
   "cell_type": "code",
   "execution_count": null,
   "id": "e5d9e073",
   "metadata": {},
   "outputs": [],
   "source": []
  },
  {
   "cell_type": "code",
   "execution_count": null,
   "id": "d19cd69a",
   "metadata": {},
   "outputs": [],
   "source": []
  }
 ],
 "metadata": {
  "kernelspec": {
   "display_name": "MLvenv",
   "language": "python",
   "name": "mlvenv"
  },
  "language_info": {
   "codemirror_mode": {
    "name": "ipython",
    "version": 3
   },
   "file_extension": ".py",
   "mimetype": "text/x-python",
   "name": "python",
   "nbconvert_exporter": "python",
   "pygments_lexer": "ipython3",
   "version": "3.10.7"
  }
 },
 "nbformat": 4,
 "nbformat_minor": 5
}
